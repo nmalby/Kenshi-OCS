{
  "nbformat": 4,
  "nbformat_minor": 0,
  "metadata": {
    "colab": {
      "provenance": []
    },
    "kernelspec": {
      "name": "python3",
      "display_name": "Python 3"
    }
  },
  "cells": [
    {
      "metadata": {
        "id": "KTAqyyFDc7Ew"
      },
      "cell_type": "markdown",
      "source": [
        "##Install dotnet core runtime"
      ]
    },
    {
      "metadata": {
        "id": "7k7vI3rXUq26"
      },
      "cell_type": "code",
      "source": [
        "!echo -e \"Package: *\\nPin: origin \\\"packages.microsoft.com\\\"\\nPin-Priority: 1001\" | sudo tee /etc/apt/preferences.d/99microsoft-dotnet.pref\n",
        "\n",
        "# https://www.microsoft.com/net/learn/get-started/linux/ubuntu17-10\n",
        "! wget -q https://packages.microsoft.com/config/ubuntu/22.04/packages-microsoft-prod.deb\n",
        "! dpkg -i packages-microsoft-prod.deb\n",
        "! apt-get install apt-transport-https\n",
        "! apt-get update\n",
        "! apt-get install aspnetcore-runtime-6.0\n",
        "\n",
        "! apt-get install dotnet-sdk-6.0"
      ],
      "execution_count": null,
      "outputs": []
    },
    {
      "cell_type": "code",
      "source": [
        "%cd /content"
      ],
      "metadata": {
        "id": "_7c3QffQMqC-",
        "outputId": "e8602288-4da1-4545-8adb-780baacfedf7",
        "colab": {
          "base_uri": "https://localhost:8080/"
        }
      },
      "execution_count": 29,
      "outputs": [
        {
          "output_type": "stream",
          "name": "stdout",
          "text": [
            "/content\n"
          ]
        }
      ]
    },
    {
      "cell_type": "code",
      "source": [
        "!dotnet new console -o OpenConstructionSet\n",
        "%cd OpenConstructionSet\n",
        "!dotnet add package OpenConstructionSet\n",
        "!dotnet restore\n",
        "!dotnet build"
      ],
      "metadata": {
        "id": "ElSt-guPQ5Ky",
        "outputId": "ede37153-4c11-49a4-d93c-4fd7468f6656",
        "colab": {
          "base_uri": "https://localhost:8080/"
        }
      },
      "execution_count": 2,
      "outputs": [
        {
          "output_type": "stream",
          "name": "stdout",
          "text": [
            "\u001b[?1h\u001b=\n",
            "Welcome to .NET 6.0!\r\n",
            "---------------------\r\n",
            "SDK Version: 6.0.424\n",
            "\n",
            "Telemetry\r\n",
            "---------\r\n",
            "The .NET tools collect usage data in order to help us improve your experience. It is collected by Microsoft and shared with the community. You can opt-out of telemetry by setting the DOTNET_CLI_TELEMETRY_OPTOUT environment variable to '1' or 'true' using your favorite shell.\r\n",
            "\r\n",
            "Read more about .NET CLI Tools telemetry: https://aka.ms/dotnet-cli-telemetry\n",
            "\n",
            "----------------\r\n",
            "Installed an ASP.NET Core HTTPS development certificate.\r\n",
            "To trust the certificate run 'dotnet dev-certs https --trust' (Windows and macOS only).\r\n",
            "Learn about HTTPS: https://aka.ms/dotnet-https\r\n",
            "----------------\r\n",
            "Write your first app: https://aka.ms/dotnet-hello-world\r\n",
            "Find out what's new: https://aka.ms/dotnet-whats-new\r\n",
            "Explore documentation: https://aka.ms/dotnet-docs\r\n",
            "Report issues and find source on GitHub: https://github.com/dotnet/core\r\n",
            "Use 'dotnet --help' to see available commands or visit: https://aka.ms/dotnet-cli\r\n",
            "--------------------------------------------------------------------------------------\n",
            "\u001b[?1h\u001b=\u001b[?1h\u001b=The template \"Console App\" was created successfully.\n",
            "\n",
            "Processing post-creation actions...\n",
            "Running 'dotnet restore' on /content/OpenConstructionSet/OpenConstructionSet.csproj...\n",
            "  Determining projects to restore...\n",
            "  Restored /content/OpenConstructionSet/OpenConstructionSet.csproj (in 86 ms).\n",
            "Restore succeeded.\n",
            "\n",
            "\n",
            "/content/OpenConstructionSet\n",
            "\u001b[?1h\u001b=  Determining projects to restore...\n",
            "  Writing /tmp/tmpLsdls1.tmp\n",
            "\u001b[?1h\u001b=info : X.509 certificate chain validation will use the fallback certificate bundle at '/usr/share/dotnet/sdk/6.0.424/trustedroots/codesignctl.pem'.\n",
            "info : X.509 certificate chain validation will use the fallback certificate bundle at '/usr/share/dotnet/sdk/6.0.424/trustedroots/timestampctl.pem'.\n",
            "info : Adding PackageReference for package 'OpenConstructionSet' into project '/content/OpenConstructionSet/OpenConstructionSet.csproj'.\n",
            "info :   GET https://api.nuget.org/v3/registration5-gz-semver2/openconstructionset/index.json\n",
            "info :   OK https://api.nuget.org/v3/registration5-gz-semver2/openconstructionset/index.json 164ms\n",
            "info : Restoring packages for /content/OpenConstructionSet/OpenConstructionSet.csproj...\n",
            "error: NU1108: Cycle detected. \n",
            "error:   OpenConstructionSet -> OpenConstructionSet (>= 3.0.1).\n",
            "info : Package 'OpenConstructionSet' is compatible with all the specified frameworks in project '/content/OpenConstructionSet/OpenConstructionSet.csproj'.\n",
            "error: Value cannot be null. (Parameter 'path1')\n",
            "\n",
            "\n",
            "Usage: NuGet.CommandLine.XPlat.dll package add [options]\n",
            "\n",
            "Options:\n",
            "  -h|--help               Show help information\n",
            "  --force-english-output  Forces the application to run using an invariant, English-based culture.\n",
            "  --package               Id of the package to be added.\n",
            "  --version               Version of the package to be added.\n",
            "  -d|--dg-file            Path to the dependency graph file to be used to restore preview and compatibility check.\n",
            "  -p|--project            Path to the project file.\n",
            "  -f|--framework          Frameworks for which the package reference should be added.\n",
            "  -n|--no-restore         Do not perform restore preview and compatibility check. The added package reference will be unconditional.\n",
            "  -s|--source             Specifies NuGet package sources to use during the restore.\n",
            "  --package-directory     Directory to restore packages in.\n",
            "  --interactive           Allow the command to block and require manual action for operations like authentication.\n",
            "  --prerelease            Allows prerelease packages to be installed.\n",
            "\n",
            "\u001b[?1h\u001b=\u001b[?1h\u001b=  Determining projects to restore...\n",
            "  All projects are up-to-date for restore.\n",
            "\u001b[?1h\u001b=MSBuild version 17.3.4+a400405ba for .NET\n",
            "  Determining projects to restore...\n",
            "  All projects are up-to-date for restore.\n",
            "  OpenConstructionSet -> /content/OpenConstructionSet/bin/Debug/net6.0/OpenConstructionSet.dll\n",
            "\u001b[m\u001b[32m\n",
            "Build succeeded.\n",
            "\u001b[m    0 Warning(s)\n",
            "\u001b[m    0 Error(s)\n",
            "\u001b[m\n",
            "Time Elapsed 00:00:03.43\n"
          ]
        }
      ]
    },
    {
      "cell_type": "markdown",
      "source": [],
      "metadata": {
        "id": "7ZCHjcneLlF1"
      }
    },
    {
      "cell_type": "code",
      "source": [
        "! pip install pythonnet\n",
        "! pip install clr-loader"
      ],
      "metadata": {
        "id": "WgMGYzGSsiak"
      },
      "execution_count": null,
      "outputs": []
    },
    {
      "cell_type": "code",
      "source": [
        "from pythonnet import load\n",
        "load(\"coreclr\")\n",
        "\n",
        "import clr"
      ],
      "metadata": {
        "id": "0PoG1J5FNzvX"
      },
      "execution_count": 4,
      "outputs": []
    },
    {
      "cell_type": "code",
      "source": [
        "clr.AddReference(\"/content/OpenConstructionSet/bin/Debug/net6.0/OpenConstructionSet.dll\")"
      ],
      "metadata": {
        "id": "77njGKASNbgI",
        "outputId": "72e3862d-dc75-44d5-fafd-163158896ea1",
        "colab": {
          "base_uri": "https://localhost:8080/"
        }
      },
      "execution_count": 32,
      "outputs": [
        {
          "output_type": "execute_result",
          "data": {
            "text/plain": [
              "<System.Reflection.RuntimeAssembly object at 0x7c55ef7c9200>"
            ]
          },
          "metadata": {},
          "execution_count": 32
        }
      ]
    },
    {
      "cell_type": "code",
      "source": [
        "! dotnet /content/OpenConstructionSet/bin/Debug/net6.0/OpenConstructionSet.dll"
      ],
      "metadata": {
        "id": "5X0y7AynNiOQ",
        "outputId": "f8789fb2-a58b-47fa-aaaf-b16829777395",
        "colab": {
          "base_uri": "https://localhost:8080/"
        }
      },
      "execution_count": 5,
      "outputs": [
        {
          "output_type": "stream",
          "name": "stdout",
          "text": [
            "\u001b[?1h\u001b=Hello, World!\n"
          ]
        }
      ]
    },
    {
      "cell_type": "code",
      "source": [
        "! rm -rf /content/OpenConstructionSet"
      ],
      "metadata": {
        "id": "DCSYjzePMmDo"
      },
      "execution_count": 35,
      "outputs": []
    }
  ]
}