{
  "nbformat": 4,
  "nbformat_minor": 0,
  "metadata": {
    "colab": {
      "provenance": []
    },
    "kernelspec": {
      "name": "python3",
      "display_name": "Python 3"
    }
  },
  "cells": [
    {
      "metadata": {
        "id": "KTAqyyFDc7Ew"
      },
      "cell_type": "markdown",
      "source": [
        "##Install dotnet core runtime"
      ]
    },
    {
      "metadata": {
        "id": "7k7vI3rXUq26"
      },
      "cell_type": "code",
      "source": [
        "!echo -e \"Package: *\\nPin: origin \\\"packages.microsoft.com\\\"\\nPin-Priority: 1001\" | sudo tee /etc/apt/preferences.d/99microsoft-dotnet.pref\n",
        "\n",
        "# https://www.microsoft.com/net/learn/get-started/linux/ubuntu17-10\n",
        "! wget -q https://packages.microsoft.com/config/ubuntu/22.04/packages-microsoft-prod.deb\n",
        "! dpkg -i packages-microsoft-prod.deb\n",
        "! apt-get install apt-transport-https\n",
        "! apt-get update\n",
        "! apt-get install aspnetcore-runtime-8.0\n",
        "\n",
        "! apt-get install dotnet-sdk-8.0"
      ],
      "execution_count": null,
      "outputs": []
    },
    {
      "cell_type": "markdown",
      "source": [],
      "metadata": {
        "id": "XLyk4CJwoFl_"
      }
    },
    {
      "cell_type": "code",
      "source": [
        "%cd /content"
      ],
      "metadata": {
        "id": "exSYJQm089Oq"
      },
      "execution_count": null,
      "outputs": []
    },
    {
      "cell_type": "code",
      "source": [
        "! dotnet build /content/OpenConstructionSet/OpenConstructionSet.csproj"
      ],
      "metadata": {
        "id": "cYbyUpZzdUE9"
      },
      "execution_count": null,
      "outputs": []
    },
    {
      "cell_type": "code",
      "source": [
        "! rm -rf /content/OpenConstructionSet"
      ],
      "metadata": {
        "id": "DCSYjzePMmDo"
      },
      "execution_count": null,
      "outputs": []
    },
    {
      "cell_type": "code",
      "source": [
        "! mkdir /content/OCS"
      ],
      "metadata": {
        "id": "6at2iVC2qtvF"
      },
      "execution_count": null,
      "outputs": []
    },
    {
      "cell_type": "code",
      "source": [
        "! cd /content/OpenConstructionSet"
      ],
      "metadata": {
        "id": "lRXtlnUCIovq"
      },
      "execution_count": null,
      "outputs": []
    },
    {
      "cell_type": "code",
      "source": [
        "! git clone https://github.com/lmaydev/OpenConstructionSet.git"
      ],
      "metadata": {
        "id": "aNWYU4HuP-fD"
      },
      "execution_count": null,
      "outputs": []
    },
    {
      "cell_type": "code",
      "source": [
        "! dotnet build /content/OpenConstructionSet/OpenConstructionSet/OpenConstructionSet.csproj"
      ],
      "metadata": {
        "id": "RK3Zo0sJtICw"
      },
      "execution_count": null,
      "outputs": []
    },
    {
      "cell_type": "markdown",
      "source": [
        "##PythonNet"
      ],
      "metadata": {
        "id": "rSvckLANn0N_"
      }
    },
    {
      "cell_type": "code",
      "source": [
        "! pip install pythonnet\n",
        "! pip install clr\n",
        "! pip install clr-loader"
      ],
      "metadata": {
        "id": "WgMGYzGSsiak"
      },
      "execution_count": null,
      "outputs": []
    },
    {
      "cell_type": "code",
      "source": [
        "from pythonnet import load\n",
        "load(\"coreclr\")\n",
        "\n",
        "import clr\n",
        "import sys\n",
        "\n",
        "sys.path.append('/root/.nuget/packages')\n",
        "# clr.AddReference(\"OpenConstructionSet\")\n",
        "\n",
        "clr.AddReference(\"/content/OpenConstructionSet/OpenConstructionSet/bin/Debug/net8-windows/OpenConstructionSet.dll\")"
      ],
      "metadata": {
        "id": "0PoG1J5FNzvX"
      },
      "execution_count": null,
      "outputs": []
    },
    {
      "cell_type": "code",
      "source": [
        "import OpenConstructionSet"
      ],
      "metadata": {
        "id": "zY5m14CwSwS8"
      },
      "execution_count": null,
      "outputs": []
    },
    {
      "cell_type": "markdown",
      "source": [
        "##Test"
      ],
      "metadata": {
        "id": "EVO5tB1_zVJK"
      }
    },
    {
      "cell_type": "code",
      "source": [
        "! dotnet new console -o OCSTest"
      ],
      "metadata": {
        "id": "NdIh75SRzV6S"
      },
      "execution_count": null,
      "outputs": []
    },
    {
      "cell_type": "code",
      "source": [
        "! cd /content/OCSTest \\\n",
        "&& dotnet add reference \"/content/OpenConstructionSet/OpenConstructionSet/OpenConstructionSet.csproj\""
      ],
      "metadata": {
        "id": "pJo9HrK-4zeJ"
      },
      "execution_count": null,
      "outputs": []
    },
    {
      "cell_type": "code",
      "source": [
        "! dotnet build /content/OCSTest/OCSTest.csproj"
      ],
      "metadata": {
        "id": "W9SJOR4A0Ln9"
      },
      "execution_count": null,
      "outputs": []
    }
  ]
}